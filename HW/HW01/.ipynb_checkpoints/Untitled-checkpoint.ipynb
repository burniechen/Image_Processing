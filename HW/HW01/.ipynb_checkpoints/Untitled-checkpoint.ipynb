{
 "cells": [
  {
   "cell_type": "code",
   "execution_count": 3,
   "metadata": {},
   "outputs": [
    {
     "name": "stdout",
     "output_type": "stream",
     "text": [
      "[[1 2 3]\n",
      " [4 5 6]]\n"
     ]
    }
   ],
   "source": [
    "import numpy as np\n",
    "\n",
    "a = np.array([1,2,3])\n",
    "b = np.array([4,5,6])\n",
    "\n",
    "print(np.array([a, b]))"
   ]
  },
  {
   "cell_type": "code",
   "execution_count": 151,
   "metadata": {},
   "outputs": [],
   "source": [
    "import numpy as np\n",
    "import sys\n",
    "import cv2\n",
    "\n",
    "def ConstrastAdjust(dst, contrast, brightness):\n",
    "    a = contrast\n",
    "    b = brightness\n",
    "\n",
    "    dst = dst * a + b\n",
    "    dst[dst > 255] = 255\n",
    "    dst[dst < 0] = 0\n",
    "\n",
    "    return dst\n",
    "\n",
    "def GetMeanFilter(num):\n",
    "    filter = np.zeros((num, num))\n",
    "    filter = filter + 1\n",
    "    filter = filter / filter.sum()\n",
    "    \n",
    "    return filter\n",
    "\n",
    "\n",
    "\n",
    "def GetGaussianFilter(sigma):\n",
    "    x, y  = np.mgrid[-1:2, -1:2]\n",
    "    gaussion_filter = np.exp(-(x**2 + y**2) / 2 * pow(sigma, 2))\n",
    "    gaussion_filter = gaussion_filter / gaussion_filter.sum() # normalize\n",
    "\n",
    "    return gaussion_filter\n",
    "\n",
    "def Convolution(dst, img_extend, filter):\n",
    "    filter_row, filter_col = filter.shape\n",
    "\n",
    "    R = 0\n",
    "    G = 0\n",
    "    B = 0\n",
    "    for m in range(rows):\n",
    "        for n in range(cols):\n",
    "            for i in range(filter_row):\n",
    "                for j in range(filter_col):\n",
    "                    R = R + filter[i][j] * img_extend[i + m][j + n][0]\n",
    "                    G = G + filter[i][j] * img_extend[i + m][j + n][1]\n",
    "                    B = B + filter[i][j] * img_extend[i + m][j + n][2]\n",
    "            dst[m][n][0] = R\n",
    "            dst[m][n][1] = G\n",
    "            dst[m][n][2] = B\n",
    "            R = 0\n",
    "            G = 0\n",
    "            B = 0\n",
    "\n",
    "    return dst\n",
    "\n",
    "path = 'images/p1im1.png'\n",
    "img = cv2.imread(path)\n",
    "rows, cols, channels = img.shape\n",
    "\n",
    "img_extend = np.zeros((rows + 2, cols + 2, channels))\n",
    "\n",
    "for i in range(1, rows + 1):\n",
    "    for j in range(1, cols + 1):\n",
    "        img_extend[i][j] = img[i-1][j-1]\n",
    "\n",
    "dst = img.copy()"
   ]
  },
  {
   "cell_type": "code",
   "execution_count": 149,
   "metadata": {},
   "outputs": [
    {
     "name": "stdout",
     "output_type": "stream",
     "text": [
      "[[[0.4        0.4        0.4       ]\n",
      "  [0.8        0.8        0.8       ]\n",
      "  [0.8        0.8        0.8       ]\n",
      "  ...\n",
      "  [0.8        0.8        0.8       ]\n",
      "  [0.8        0.8        0.8       ]\n",
      "  [0.6        0.6        0.6       ]]\n",
      "\n",
      " [[0.6        0.6        0.6       ]\n",
      "  [1.         1.         1.        ]\n",
      "  [1.         1.         1.        ]\n",
      "  ...\n",
      "  [1.         1.         1.        ]\n",
      "  [1.         1.         1.        ]\n",
      "  [0.6        0.6        0.6       ]]\n",
      "\n",
      " [[0.6        0.6        0.6       ]\n",
      "  [1.         1.         1.        ]\n",
      "  [1.         1.         1.        ]\n",
      "  ...\n",
      "  [1.         1.         1.        ]\n",
      "  [1.         1.         1.        ]\n",
      "  [0.6        0.6        0.6       ]]\n",
      "\n",
      " ...\n",
      "\n",
      " [[0.58823529 0.58823529 0.57647059]\n",
      "  [0.98823529 0.98823529 0.96862745]\n",
      "  [0.99215686 0.99215686 0.96862745]\n",
      "  ...\n",
      "  [0.99215686 0.99607843 0.98039216]\n",
      "  [0.99607843 0.99607843 0.98431373]\n",
      "  [0.6        0.6        0.59215686]]\n",
      "\n",
      " [[0.59215686 0.59215686 0.57647059]\n",
      "  [0.99215686 0.99215686 0.97647059]\n",
      "  [0.99607843 0.99607843 0.98039216]\n",
      "  ...\n",
      "  [0.99215686 0.99607843 0.98431373]\n",
      "  [0.99607843 1.         0.98823529]\n",
      "  [0.59607843 0.6        0.59215686]]\n",
      "\n",
      " [[0.59607843 0.59607843 0.58823529]\n",
      "  [0.8        0.8        0.78823529]\n",
      "  [0.79607843 0.79607843 0.78823529]\n",
      "  ...\n",
      "  [0.79215686 0.79607843 0.79215686]\n",
      "  [0.79215686 0.8        0.79215686]\n",
      "  [0.39607843 0.4        0.39607843]]]\n"
     ]
    }
   ],
   "source": [
    "dst = np.power(dst/float(np.max(dst)), 2)\n",
    "dst[dst > 255] = 255\n",
    "dst[dst < 0] = 0\n",
    "\n",
    "print(dst)"
   ]
  },
  {
   "cell_type": "code",
   "execution_count": 145,
   "metadata": {},
   "outputs": [
    {
     "name": "stdout",
     "output_type": "stream",
     "text": [
      "75\n"
     ]
    }
   ],
   "source": [
    "b = img_extend[0:5, 0:5]\n",
    "# print(np.median(b, axis=0))\n",
    "print(b.size)"
   ]
  },
  {
   "cell_type": "code",
   "execution_count": 147,
   "metadata": {},
   "outputs": [],
   "source": [
    "n=3\n",
    "d=5\n",
    "d2 = int(d/2)\n",
    "\n",
    "for i in range(rows):\n",
    "    for j in range(cols):\n",
    "        tmp = img_extend[i:i+n, j:j+n]\n",
    "        tmp = tmp.reshape(n**2, 3)\n",
    "        tmp = tmp[d2:n**2-d2, 0:3]\n",
    "        mean = np.mean(tmp, axis=0)\n",
    "        dst[i][j] = mean"
   ]
  },
  {
   "cell_type": "code",
   "execution_count": 23,
   "metadata": {},
   "outputs": [
    {
     "data": {
      "text/plain": [
       "(602, 802, 3)"
      ]
     },
     "execution_count": 23,
     "metadata": {},
     "output_type": "execute_result"
    }
   ],
   "source": [
    "img_extend.shape"
   ]
  },
  {
   "cell_type": "code",
   "execution_count": 29,
   "metadata": {},
   "outputs": [
    {
     "data": {
      "text/plain": [
       "array([[[255., 255., 252.],\n",
       "        [255., 255., 252.],\n",
       "        [  0.,   0.,   0.]],\n",
       "\n",
       "       [[252., 255., 253.],\n",
       "        [253., 255., 254.],\n",
       "        [  0.,   0.,   0.]],\n",
       "\n",
       "       [[  0.,   0.,   0.],\n",
       "        [  0.,   0.,   0.],\n",
       "        [  0.,   0.,   0.]]])"
      ]
     },
     "execution_count": 29,
     "metadata": {},
     "output_type": "execute_result"
    }
   ],
   "source": [
    "b"
   ]
  },
  {
   "cell_type": "code",
   "execution_count": 32,
   "metadata": {},
   "outputs": [],
   "source": [
    "c = b.reshape(9, 3)"
   ]
  },
  {
   "cell_type": "code",
   "execution_count": 35,
   "metadata": {},
   "outputs": [
    {
     "data": {
      "text/plain": [
       "array([[255., 255., 252.],\n",
       "       [255., 255., 252.],\n",
       "       [  0.,   0.,   0.],\n",
       "       [252., 255., 253.],\n",
       "       [253., 255., 254.],\n",
       "       [  0.,   0.,   0.],\n",
       "       [  0.,   0.,   0.],\n",
       "       [  0.,   0.,   0.],\n",
       "       [  0.,   0.,   0.]])"
      ]
     },
     "execution_count": 35,
     "metadata": {},
     "output_type": "execute_result"
    }
   ],
   "source": [
    "c"
   ]
  },
  {
   "cell_type": "code",
   "execution_count": 34,
   "metadata": {},
   "outputs": [
    {
     "data": {
      "text/plain": [
       "array([0., 0., 0.])"
      ]
     },
     "execution_count": 34,
     "metadata": {},
     "output_type": "execute_result"
    }
   ],
   "source": [
    "np.median(c, axis=0)"
   ]
  },
  {
   "cell_type": "code",
   "execution_count": 36,
   "metadata": {},
   "outputs": [
    {
     "name": "stdout",
     "output_type": "stream",
     "text": [
      "[ 2  6 12]\n"
     ]
    }
   ],
   "source": [
    "a = np.array([1,2,3])\n",
    "b = np.array([2,3,4])\n",
    "print(a*b)"
   ]
  },
  {
   "cell_type": "code",
   "execution_count": 48,
   "metadata": {},
   "outputs": [
    {
     "data": {
      "text/plain": [
       "array([[  0.,   0.,   0.],\n",
       "       [  0.,   0.,   0.],\n",
       "       [  0.,   0.,   0.],\n",
       "       [  0.,   0.,   0.],\n",
       "       [  0.,   0.,   0.],\n",
       "       [252., 255., 252.],\n",
       "       [253., 255., 252.],\n",
       "       [255., 255., 253.],\n",
       "       [255., 255., 254.]])"
      ]
     },
     "execution_count": 48,
     "metadata": {},
     "output_type": "execute_result"
    }
   ],
   "source": [
    "c = np.sort(c, axis=0)\n",
    "c"
   ]
  },
  {
   "cell_type": "code",
   "execution_count": 46,
   "metadata": {},
   "outputs": [
    {
     "data": {
      "text/plain": [
       "2"
      ]
     },
     "execution_count": 46,
     "metadata": {},
     "output_type": "execute_result"
    }
   ],
   "source": [
    "d = 5\n",
    "e = int(np.round(d/2))\n",
    "e"
   ]
  },
  {
   "cell_type": "code",
   "execution_count": 49,
   "metadata": {},
   "outputs": [
    {
     "data": {
      "text/plain": [
       "array([101. , 102. , 100.8])"
      ]
     },
     "execution_count": 49,
     "metadata": {},
     "output_type": "execute_result"
    }
   ],
   "source": [
    "np.mean(c[0+e:9-e, 0:3], axis=0)"
   ]
  },
  {
   "cell_type": "code",
   "execution_count": 135,
   "metadata": {},
   "outputs": [
    {
     "data": {
      "text/plain": [
       "53"
      ]
     },
     "execution_count": 135,
     "metadata": {},
     "output_type": "execute_result"
    }
   ],
   "source": [
    "R = dst[:,:,0]\n",
    "G = dst[:,:,1]\n",
    "B = dst[:,:,2]\n",
    "\n",
    "np.array(B).max()"
   ]
  },
  {
   "cell_type": "code",
   "execution_count": 113,
   "metadata": {},
   "outputs": [
    {
     "data": {
      "text/plain": [
       "0"
      ]
     },
     "execution_count": 113,
     "metadata": {},
     "output_type": "execute_result"
    }
   ],
   "source": [
    "R_count = []\n",
    "R_sum = 0\n",
    "G_count = []\n",
    "G_sum = 0\n",
    "B_count = []\n",
    "B_sum = 0\n",
    "for i in range(256):\n",
    "    R_sum = R_sum + np.count_nonzero(R == i)\n",
    "    R_count.append(R_sum)\n",
    "    \n",
    "    G_sum = G_sum + np.count_nonzero(G == i)\n",
    "    G_count.append(np.count_nonzero(G == i))\n",
    "    \n",
    "    B_sum = B_sum + np.count_nonzero(B == i)\n",
    "    B_count.append(np.count_nonzero(B == i))\n",
    "np.array(R_count).min()"
   ]
  },
  {
   "cell_type": "code",
   "execution_count": 114,
   "metadata": {},
   "outputs": [
    {
     "data": {
      "text/plain": [
       "array([  0.,   0.,   0.,   0.,   0.,   0.,   0.,   0.,   0.,   0.,   0.,\n",
       "         0.,   0.,   0.,   0.,   0.,   0.,   0.,   0.,   0.,   0.,   0.,\n",
       "         0.,   0.,   0.,   0.,   0.,   0.,   0.,   0.,   0.,   0.,   0.,\n",
       "         0.,   0.,   0.,   0.,   0.,   0.,   0.,   0.,   0.,   0.,   0.,\n",
       "         0.,   0.,   0.,   0.,   0.,   0.,   0.,   0.,   0.,   0.,   0.,\n",
       "         0.,   0.,   0.,   0.,   0.,   0.,   0.,   0.,   0.,   0.,   0.,\n",
       "         0.,   0.,   0.,   0.,   0.,   0.,   0.,   0.,   0.,   0.,   0.,\n",
       "         0.,   0.,   0.,   0.,   0.,   0.,   0.,   0.,   0.,   0.,   0.,\n",
       "         0.,   0.,   0.,   0.,   0.,   0.,   0.,   0.,   0.,   0.,   0.,\n",
       "         0.,   0.,   0.,   0.,   0.,   0.,   0.,   0.,   0.,   0.,   0.,\n",
       "         0.,   0.,   0.,   0.,   0.,   0.,   0.,   0.,   0.,   0.,   0.,\n",
       "         0.,   0.,   0.,   0.,   0.,   0.,   0.,   0.,   0.,   0.,   0.,\n",
       "         0.,   0.,   0.,   0.,   0.,   0.,   0.,   0.,   0.,   0.,   0.,\n",
       "         0.,   0.,   0.,   0.,   0.,   0.,   0.,   0.,   0.,   0.,   0.,\n",
       "         0.,   0.,   0.,   0.,   0.,   0.,   0.,   0.,   0.,   0.,   0.,\n",
       "         0.,   0.,   0.,   0.,   0.,   0.,   0.,   0.,   0.,   0.,   0.,\n",
       "         0.,   0.,   0.,   0.,   0.,   0.,   0.,   0.,   0.,   0.,   0.,\n",
       "         0.,   0.,   0.,   0.,   0.,   0.,   0.,   0.,   0.,   0.,   0.,\n",
       "         0.,   0.,   0.,   0.,   0.,   0.,   0.,   0.,   0.,   0.,   1.,\n",
       "         1.,   1.,   1.,   1.,   1.,   1.,   1.,   1.,   2.,   2.,   2.,\n",
       "         2.,   2.,   3.,   3.,   3.,   3.,   4.,   4.,   5.,   5.,   5.,\n",
       "         6.,   6.,   6.,   7.,   7.,   8.,   8.,   8.,   9.,   9.,   9.,\n",
       "        10.,  10.,  11.,  11.,  11.,  12.,  12.,  13.,  13.,  13.,  14.,\n",
       "        14.,  15., 255.])"
      ]
     },
     "execution_count": 114,
     "metadata": {},
     "output_type": "execute_result"
    }
   ],
   "source": [
    "R_count = (np.array(R_count)/480000)*255\n",
    "R_eq = np.round(R_count)\n",
    "R_eq"
   ]
  },
  {
   "cell_type": "code",
   "execution_count": 95,
   "metadata": {},
   "outputs": [
    {
     "data": {
      "text/plain": [
       "array([2., 3., 4.])"
      ]
     },
     "execution_count": 95,
     "metadata": {},
     "output_type": "execute_result"
    }
   ],
   "source": [
    "a= np.array([1,2,3])\n",
    "np.round(a/2*3)"
   ]
  },
  {
   "cell_type": "code",
   "execution_count": 124,
   "metadata": {},
   "outputs": [],
   "source": [
    "def HistogramEqual():\n",
    "    R = dst[:,:,0]\n",
    "    G = dst[:,:,1]\n",
    "    B = dst[:,:,2]\n",
    "\n",
    "    R_cdf = []\n",
    "    R_sum = 0\n",
    "    G_cdf = []\n",
    "    G_sum = 0\n",
    "    B_cdf = []\n",
    "    B_sum = 0\n",
    "    for i in range(256):\n",
    "        R_sum = R_sum + np.count_nonzero(R == i)\n",
    "        R_cdf.append(R_sum)\n",
    "        \n",
    "        G_sum = G_sum + np.count_nonzero(G == i)\n",
    "        G_cdf.append(np.count_nonzero(G == i))\n",
    "        \n",
    "        B_sum = B_sum + np.count_nonzero(B == i)\n",
    "        B_cdf.append(np.count_nonzero(B == i))\n",
    "\n",
    "    R_eq = np.array(R_cdf) / 480000 * 255\n",
    "    R_eq = np.round(R_eq)\n",
    "\n",
    "    G_eq = np.array(G_cdf) / 480000 * 255\n",
    "    G_eq = np.round(G_eq)\n",
    "\n",
    "    B_eq = np.array(B_cdf) / 480000 * 255\n",
    "    B_eq = np.round(B_eq)\n",
    "\n",
    "    for i in range(rows):\n",
    "        for j in range(cols):\n",
    "            dst[i][j][0] = R_eq[dst[i][j][0]]\n",
    "            dst[i][j][1] = G_eq[dst[i][j][1]]\n",
    "            dst[i][j][2] = B_eq[dst[i][j][2]]\n",
    "    \n",
    "    return dst"
   ]
  },
  {
   "cell_type": "code",
   "execution_count": 125,
   "metadata": {},
   "outputs": [],
   "source": [
    "dst = HistogramEqual()"
   ]
  },
  {
   "cell_type": "code",
   "execution_count": 126,
   "metadata": {},
   "outputs": [
    {
     "data": {
      "text/plain": [
       "array([[[255,  92,  53],\n",
       "        [255,  92,  53],\n",
       "        [255,  92,  53],\n",
       "        ...,\n",
       "        [255,  92,  53],\n",
       "        [255,  92,  53],\n",
       "        [255,  92,  53]],\n",
       "\n",
       "       [[255,  92,  53],\n",
       "        [255,  92,  53],\n",
       "        [255,  92,  53],\n",
       "        ...,\n",
       "        [255,  92,  53],\n",
       "        [255,  92,  53],\n",
       "        [255,  92,  53]],\n",
       "\n",
       "       [[255,  92,  53],\n",
       "        [255,  92,  53],\n",
       "        [255,  92,  53],\n",
       "        ...,\n",
       "        [255,  92,  53],\n",
       "        [255,  92,  53],\n",
       "        [255,  92,  53]],\n",
       "\n",
       "       ...,\n",
       "\n",
       "       [[146,   5,   4],\n",
       "        [139,   4,   4],\n",
       "        [158,   5,   6],\n",
       "        ...,\n",
       "        [158,  14,   7],\n",
       "        [255,  92,   9],\n",
       "        [255,  92,   9]],\n",
       "\n",
       "       [[158,   8,   5],\n",
       "        [158,   8,   5],\n",
       "        [255,  92,   9],\n",
       "        ...,\n",
       "        [172,  92,   9],\n",
       "        [255,  92,   9],\n",
       "        [255,  92,   9]],\n",
       "\n",
       "       [[255,  92,   9],\n",
       "        [255,  92,   9],\n",
       "        [255,  92,   9],\n",
       "        ...,\n",
       "        [146,  92,   5],\n",
       "        [146,  92,   5],\n",
       "        [158,  92,  11]]], dtype=uint8)"
      ]
     },
     "execution_count": 126,
     "metadata": {},
     "output_type": "execute_result"
    }
   ],
   "source": [
    "dst"
   ]
  },
  {
   "cell_type": "code",
   "execution_count": 152,
   "metadata": {},
   "outputs": [
    {
     "data": {
      "text/plain": [
       "array([[[255, 255, 255],\n",
       "        [255, 255, 255],\n",
       "        [255, 255, 255],\n",
       "        ...,\n",
       "        [255, 255, 255],\n",
       "        [255, 255, 255],\n",
       "        [255, 255, 255]],\n",
       "\n",
       "       [[255, 255, 255],\n",
       "        [255, 255, 255],\n",
       "        [255, 255, 255],\n",
       "        ...,\n",
       "        [255, 255, 255],\n",
       "        [255, 255, 255],\n",
       "        [255, 255, 255]],\n",
       "\n",
       "       [[255, 255, 255],\n",
       "        [255, 255, 255],\n",
       "        [255, 255, 255],\n",
       "        ...,\n",
       "        [255, 255, 255],\n",
       "        [255, 255, 255],\n",
       "        [255, 255, 255]],\n",
       "\n",
       "       ...,\n",
       "\n",
       "       [[252, 252, 246],\n",
       "        [251, 251, 245],\n",
       "        [253, 252, 248],\n",
       "        ...,\n",
       "        [253, 254, 250],\n",
       "        [255, 255, 252],\n",
       "        [255, 255, 252]],\n",
       "\n",
       "       [[253, 253, 247],\n",
       "        [253, 253, 247],\n",
       "        [255, 255, 252],\n",
       "        ...,\n",
       "        [254, 255, 251],\n",
       "        [255, 255, 252],\n",
       "        [255, 255, 252]],\n",
       "\n",
       "       [[255, 255, 252],\n",
       "        [255, 255, 252],\n",
       "        [255, 255, 252],\n",
       "        ...,\n",
       "        [252, 255, 253],\n",
       "        [252, 255, 253],\n",
       "        [253, 255, 254]]], dtype=uint8)"
      ]
     },
     "execution_count": 152,
     "metadata": {},
     "output_type": "execute_result"
    }
   ],
   "source": [
    "dst"
   ]
  },
  {
   "cell_type": "code",
   "execution_count": 154,
   "metadata": {},
   "outputs": [],
   "source": [
    "path = 'images/p1im6.png'\n",
    "img = cv2.imread(path, 0)\n",
    "dst = img.copy()"
   ]
  },
  {
   "cell_type": "code",
   "execution_count": 156,
   "metadata": {},
   "outputs": [
    {
     "data": {
      "text/plain": [
       "(480, 480)"
      ]
     },
     "execution_count": 156,
     "metadata": {},
     "output_type": "execute_result"
    }
   ],
   "source": [
    "dst.shape"
   ]
  },
  {
   "cell_type": "code",
   "execution_count": 190,
   "metadata": {},
   "outputs": [],
   "source": [
    "def distance(x, y, i, j):\n",
    "    return np.sqrt(((x-i)**2 + (y-j)**2))"
   ]
  },
  {
   "cell_type": "code",
   "execution_count": 191,
   "metadata": {},
   "outputs": [],
   "source": [
    "a = distance(0, 0, 1, 1)"
   ]
  },
  {
   "cell_type": "code",
   "execution_count": 192,
   "metadata": {},
   "outputs": [],
   "source": [
    "import math"
   ]
  },
  {
   "cell_type": "code",
   "execution_count": 193,
   "metadata": {},
   "outputs": [],
   "source": [
    "def gaussian(x, sigma):\n",
    "    return np.exp(- (x ** 2) / (2 * sigma ** 2))"
   ]
  },
  {
   "cell_type": "code",
   "execution_count": 194,
   "metadata": {},
   "outputs": [
    {
     "data": {
      "text/plain": [
       "0.3678794411714422"
      ]
     },
     "execution_count": 194,
     "metadata": {},
     "output_type": "execute_result"
    }
   ],
   "source": [
    "gaussian(a, 1)"
   ]
  },
  {
   "cell_type": "code",
   "execution_count": 195,
   "metadata": {},
   "outputs": [],
   "source": [
    "row, col = dst.shape\n",
    "dst_extend = np.zeros((rows + 2, cols + 2))\n",
    "\n",
    "for i in range(1, row + 1):\n",
    "    for j in range(1, col + 1):\n",
    "        dst_extend[i][j] = dst[i-1][j-1]"
   ]
  },
  {
   "cell_type": "code",
   "execution_count": 198,
   "metadata": {},
   "outputs": [
    {
     "name": "stdout",
     "output_type": "stream",
     "text": [
      "0,0:0.1352535407280235\n",
      "0,1:0.36776832480248156\n",
      "0,2:0.1352535407280235\n",
      "1,0:0.36776832480248156\n",
      "1,1:1.0\n",
      "1,2:0.36776832480248156\n",
      "2,0:0.1352535407280235\n",
      "2,1:0.36776832480248156\n",
      "2,2:0.1352535407280235\n"
     ]
    },
    {
     "data": {
      "text/plain": [
       "array([0.04490359, 0.12209749, 0.04490359, 0.12209749, 0.33199567,\n",
       "       0.12209749, 0.04490359, 0.12209749, 0.04490359])"
      ]
     },
     "execution_count": 198,
     "metadata": {},
     "output_type": "execute_result"
    }
   ],
   "source": [
    "b = []\n",
    "for m in range(3):\n",
    "    for n in range(3):\n",
    "        print(f'{m},{n}:::')\n",
    "        for i in range(3):\n",
    "            for j in range(3):\n",
    "                d = distance(i, j, 1, 1)\n",
    "                b.append(gaussian(d, 0.707))\n",
    "                print(f'{i},{j}:{gaussian(d, 0.707)}')\n",
    "\n",
    "b = np.array(b)\n",
    "b/b.sum()"
   ]
  },
  {
   "cell_type": "code",
   "execution_count": null,
   "metadata": {},
   "outputs": [],
   "source": []
  }
 ],
 "metadata": {
  "kernelspec": {
   "display_name": "Python 3",
   "language": "python",
   "name": "python3"
  },
  "language_info": {
   "codemirror_mode": {
    "name": "ipython",
    "version": 3
   },
   "file_extension": ".py",
   "mimetype": "text/x-python",
   "name": "python",
   "nbconvert_exporter": "python",
   "pygments_lexer": "ipython3",
   "version": "3.8.3"
  }
 },
 "nbformat": 4,
 "nbformat_minor": 4
}
